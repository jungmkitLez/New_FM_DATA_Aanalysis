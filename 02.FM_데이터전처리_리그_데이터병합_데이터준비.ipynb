{
 "cells": [
  {
   "cell_type": "markdown",
   "id": "contemporary-summit",
   "metadata": {},
   "source": [
    "# 필요한 라이브러리 import"
   ]
  },
  {
   "cell_type": "code",
   "execution_count": 290,
   "id": "exempt-pasta",
   "metadata": {
    "ExecuteTime": {
     "end_time": "2021-11-23T14:07:21.337191Z",
     "start_time": "2021-11-23T14:07:21.324189Z"
    }
   },
   "outputs": [],
   "source": [
    "import pandas as pd\n",
    "import os\n",
    "import re\n",
    "import csv\n",
    "import joblib\n",
    "import warnings\n",
    "import numpy as np"
   ]
  },
  {
   "cell_type": "markdown",
   "id": "cathedral-packing",
   "metadata": {},
   "source": [
    "# 사전작업"
   ]
  },
  {
   "cell_type": "code",
   "execution_count": 291,
   "id": "drawn-laptop",
   "metadata": {
    "ExecuteTime": {
     "end_time": "2021-11-23T14:07:21.368102Z",
     "start_time": "2021-11-23T14:07:21.338189Z"
    }
   },
   "outputs": [],
   "source": [
    "warnings.filterwarnings(action='ignore')\n",
    "\n",
    "# 포지션 판정 모델 위치\n",
    "model_path = './models/position_model.pkl'\n",
    "\n",
    "# 초기 데이터 위치(포지션 판정)\n",
    "data_path = './datas/NEW_FM_DATA'\n",
    "\n",
    "# 변환된 데이터 위치\n",
    "target_path = './datas/NEW_FM_DATA_MERGED'\n",
    "\n",
    "# pyspark Mlib 활용에 맞는 데이터셋을 저장할 위치\n",
    "ml_data_path = './datas/NEW_FM_DATA_FOR_ML'\n",
    "\n",
    "# 포지션 판정 모델 불러오기\n",
    "position_predict_model=joblib.load(model_path)"
   ]
  },
  {
   "cell_type": "markdown",
   "id": "satisfied-belize",
   "metadata": {},
   "source": [
    "# 데이터 전처리"
   ]
  },
  {
   "cell_type": "markdown",
   "id": "qualified-virgin",
   "metadata": {},
   "source": [
    "## 한 시즌의 모든 팀의 데이터를 병합하는 함수"
   ]
  },
  {
   "cell_type": "code",
   "execution_count": 292,
   "id": "handed-hearts",
   "metadata": {
    "ExecuteTime": {
     "end_time": "2021-11-23T14:07:21.383103Z",
     "start_time": "2021-11-23T14:07:21.369103Z"
    }
   },
   "outputs": [],
   "source": [
    "def data_merge(path,season):\n",
    "    # 최종 데이터 프레임 컬럼\n",
    "    var_list = ['이름', '포지션', '구단', '리그', '임대 기간', '승', '무', '패', '출장시간',\n",
    "       '경기당 팀 득점/90', '경기당 팀 실점/90', '골', '도움', 'Cr C/A', '헤더 시도', 'Cr A',\n",
    "       'FA', 'Fls', '경기 당 드리블', '드리블', '기회 창출/90', '경기당 유효 슈팅/90', '경기당 슈팅/90',\n",
    "       'Int/90', '달린 거리/90분', '공중 A/90', '경기당 헤더 성공', '태클 성공률', '태클',\n",
    "       '경기당 패스 시도/90', '경기당 패스 성공/90', 'K Ps/90','시즌']\n",
    "    \n",
    "    # 모든 변수를 가진 데이터 프레임\n",
    "    team_df_whole_league = pd.DataFrame(columns=var_list)\n",
    "\n",
    "    # 특정 경로의 모든 파일 리스트 불러오기(특정리그의 모든 팀들이 저장되어 있음)\n",
    "    file_list = os.listdir(path)\n",
    "    \n",
    "    # 모든 파일을 돌며 -> 각 팀의 통계 자료를 team_df_whole에 합침\n",
    "    for file in file_list:\n",
    "\n",
    "        #불러오기\n",
    "        team_df = pd.read_csv(path+'/'+file,encoding='utf-8')\n",
    "        \n",
    "        # NaN 제거\n",
    "        team_df = team_df.dropna()\n",
    "    \n",
    "        # 골키퍼는 통계 자료 부족으로 삭제\n",
    "        team_df = team_df[team_df['포지션'] != 'GK']\n",
    "\n",
    "        # 현재 구단의 이름을 추출\n",
    "        team = team_df[team_df['임대 기간']=='-']['구단'].iloc[0]\n",
    "\n",
    "        # -을 0으로 교체\n",
    "        team_df = team_df.replace('-',0)\n",
    "\n",
    "        # 현재 구단에 속해 있으며 출장 시간이 900분을 넘긴 선수만 남김\n",
    "        team_df = team_df[(team_df['구단']==team) & (team_df['출장시간'].astype('int64')>900)]\n",
    "\n",
    "        # 시즌 열을 추가\n",
    "        team_df['시즌'] = season\n",
    "\n",
    "        # team_df_whole_league 에 연결\n",
    "        team_df_whole_league=pd.concat([team_df_whole_league,team_df])\n",
    "        \n",
    "    # team_df_whole_league의 인덱스를 재설정\n",
    "    team_df_whole_league = team_df_whole_league.reset_index(drop=True)\n",
    "    \n",
    "    # nan은 0으로 대체\n",
    "    team_df_whole_league = team_df_whole_league.fillna(0)\n",
    "    \n",
    "    return team_df_whole_league"
   ]
  },
  {
   "cell_type": "markdown",
   "id": "absent-moldova",
   "metadata": {},
   "source": [
    "## 병합된 시즌 전체 선수 데이터에 포지션을 추정하는 함수"
   ]
  },
  {
   "cell_type": "code",
   "execution_count": 293,
   "id": "corporate-advocate",
   "metadata": {
    "ExecuteTime": {
     "end_time": "2021-11-23T14:07:21.398539Z",
     "start_time": "2021-11-23T14:07:21.384103Z"
    }
   },
   "outputs": [],
   "source": [
    "def position_predictor(league_df):\n",
    "    \n",
    "    global position_predict_model\n",
    "    \n",
    "    origin_df = league_df.copy()\n",
    "    \n",
    "    # 포지션 추정을 위한 컬럼\n",
    "    columns_for_ml = ['경기 당 드리블', '기회 창출/90', '경기당 유효 슈팅/90',\n",
    "       '경기당 슈팅/90', 'Int/90', '공중 A/90', '경기당 헤더 성공', '태클', '경기당 패스 시도/90',\n",
    "       '경기당 패스 성공/90', 'K Ps/90']\n",
    "    \n",
    "    # 포지션 추정을 위한 df\n",
    "    df_for_position_ml = league_df[columns_for_ml]\n",
    "    \n",
    "    # 판정 결과 저장(포지션 열)\n",
    "    origin_df['포지션'] = position_predict_model.predict(df_for_position_ml)\n",
    "    \n",
    "    origin_df['포지션'] = origin_df['포지션'].map(position_label_reverse)\n",
    "    \n",
    "    return origin_df"
   ]
  },
  {
   "cell_type": "markdown",
   "id": "9a154b49",
   "metadata": {},
   "source": [
    "## 포지션 숫자 -> 진짜 포지션"
   ]
  },
  {
   "cell_type": "code",
   "execution_count": 294,
   "id": "b5eeabcb",
   "metadata": {
    "ExecuteTime": {
     "end_time": "2021-11-23T14:07:21.414321Z",
     "start_time": "2021-11-23T14:07:21.399541Z"
    }
   },
   "outputs": [],
   "source": [
    "def position_label_reverse(x):\n",
    "    if x == 0:\n",
    "        return '미드필더'\n",
    "    \n",
    "    elif x == 1:\n",
    "        return '수비수'\n",
    "    \n",
    "    else:\n",
    "        return '공격수'\n"
   ]
  },
  {
   "cell_type": "markdown",
   "id": "english-failure",
   "metadata": {
    "ExecuteTime": {
     "end_time": "2021-09-29T07:28:15.770208Z",
     "start_time": "2021-09-29T07:28:15.764207Z"
    }
   },
   "source": [
    "## 포지션 추정된 데이터 전처리 및 변환하는 함수"
   ]
  },
  {
   "cell_type": "code",
   "execution_count": 295,
   "id": "stuffed-pioneer",
   "metadata": {
    "ExecuteTime": {
     "end_time": "2021-11-23T14:07:21.430389Z",
     "start_time": "2021-11-23T14:07:21.415528Z"
    }
   },
   "outputs": [],
   "source": [
    "def data_cleaner(df):\n",
    "    new_df = df.copy()\n",
    "    \n",
    "    new_df['Cr C/A'] = new_df['Cr C/A'].str.strip('%')\n",
    "    new_df['달린 거리/90분'] = new_df['달린 거리/90분'].str.strip('km')\n",
    "    new_df['태클 성공률'] = new_df['태클 성공률'].str.strip('%')\n",
    "    \n",
    "    \n",
    "    # 판정 후 추가 데이터 전처리 진행,형변환\n",
    "    new_df = new_df.astype({'승':np.int,'무':np.int,'패':np.int,\n",
    "                        '출장시간':np.int,\n",
    "                        '경기당 팀 득점/90':np.float,'경기당 팀 실점/90':np.float,\n",
    "                        '골':np.int,'도움':np.int,\n",
    "                        'Cr C/A':np.float,'Cr A':np.float,\n",
    "                        'FA':np.int,'Fls':np.int,\n",
    "                        '경기 당 드리블':np.float,'드리블':np.int,\n",
    "                        '기회 창출/90':np.float, \n",
    "                        '경기당 유효 슈팅/90':np.float,'경기당 슈팅/90':np.float,\n",
    "                        'Int/90':np.float,'달린 거리/90분':np.float,\n",
    "                        '공중 A/90':np.float,'경기당 헤더 성공':np.float,\n",
    "                        '태클 성공률':np.int,'태클':np.float,\n",
    "                        '경기당 패스 시도/90':np.float,'경기당 패스 성공/90':np.float,\n",
    "                        'K Ps/90':np.float,\n",
    "                        '헤더 시도':np.int})\n",
    "    \n",
    "    # 표준화 해야 할 것들 Cr A, 경기당 헤더 성공 \n",
    "    # 표준화 : 경기수*피쳐/출장시간*90\n",
    "\n",
    "    \n",
    "    new_df['태클 성공/90'] = np.round((new_df['승']+new_df['무']+new_df['패'])*new_df['태클']/new_df['출장시간']*90,2)\n",
    "    new_df = new_df.astype({'태클 성공/90':np.float16})\n",
    "    \n",
    "    new_df['드리블 성공/90'] = np.round(new_df['드리블']/new_df['출장시간']*90,2)\n",
    "    new_df = new_df.astype({'드리블 성공/90':np.float16})\n",
    "    \n",
    "    new_df['헤더 성공/90'] = np.round((new_df['승']+new_df['무']+new_df['패'])*new_df['경기당 헤더 성공']/new_df['출장시간']*90,2)\n",
    "    new_df = new_df.astype({'헤더 성공/90':np.float16})\n",
    "    \n",
    "    new_df['Cr A/90'] = np.round(new_df['Cr A']/new_df['출장시간']*90,2)\n",
    "    new_df = new_df.astype({'Cr A/90':np.float16})\n",
    "    \n",
    "    new_df['반칙 수/90'] = np.round(new_df['Fls']/new_df['출장시간']*90,2)\n",
    "    new_df = new_df.astype({'반칙 수/90':np.float16})\n",
    "    \n",
    "    new_df = new_df.drop(['태클','경기당 헤더 성공','Cr A','드리블','경기 당 드리블','헤더 시도','Fls'],axis=1)\n",
    "\n",
    "    # 승점 또한 900분으로 표준화\n",
    "    new_df['평균획득승점/경기'] = np.round((new_df['승']*3 + new_df['무'])/(new_df['승']+ new_df['무']+new_df['패']),2)\n",
    "    \n",
    "    return new_df"
   ]
  },
  {
   "cell_type": "markdown",
   "id": "compliant-portugal",
   "metadata": {},
   "source": [
    "# 시즌 별, 리그 단위로 데이터 병합 및 저장"
   ]
  },
  {
   "cell_type": "code",
   "execution_count": 296,
   "id": "herbal-alexandria",
   "metadata": {
    "ExecuteTime": {
     "end_time": "2021-11-23T14:07:21.446300Z",
     "start_time": "2021-11-23T14:07:21.431390Z"
    }
   },
   "outputs": [],
   "source": [
    "# 시즌을 추출할 정규표현식(숫자)\n",
    "season_re = re.compile('\\d+')\n",
    "\n",
    "# 리그를 추출할 정규표현식(영어+숫자) 예) 프랑스 Ligue1\n",
    "league_re = re.compile('[a-zA-Z]+')"
   ]
  },
  {
   "cell_type": "code",
   "execution_count": 297,
   "id": "abroad-standing",
   "metadata": {
    "ExecuteTime": {
     "end_time": "2021-11-23T14:07:21.462283Z",
     "start_time": "2021-11-23T14:07:21.447299Z"
    }
   },
   "outputs": [
    {
     "data": {
      "text/plain": [
       "['2021-2022', '2022-2023', '2023-2024']"
      ]
     },
     "execution_count": 297,
     "metadata": {},
     "output_type": "execute_result"
    }
   ],
   "source": [
    "# NEW_FM_DATA 내의 목록 가져오기\n",
    "folder_list = os.listdir(data_path)\n",
    "folder_list"
   ]
  },
  {
   "cell_type": "code",
   "execution_count": 298,
   "id": "other-mineral",
   "metadata": {
    "ExecuteTime": {
     "end_time": "2021-11-23T14:07:25.557985Z",
     "start_time": "2021-11-23T14:07:21.463285Z"
    }
   },
   "outputs": [
    {
     "name": "stdout",
     "output_type": "stream",
     "text": [
      "['2021-2022-BundesLiga', '2021-2022-LaLiga', '2021-2022-LigueOne', '2021-2022-PremierLeague', '2021-2022-SerieA']\n",
      "['2022-2023-BundesLiga', '2022-2023-LaLiga', '2022-2023-LigueOne', '2022-2023-PremierLeague', '2022-2023-SerieA']\n",
      "['2023-2024-BundesLiga', '2023-2024-LaLiga', '2023-2024-LigueOne', '2023-2024-PremierLeague', '2023-2024-SerieA']\n"
     ]
    }
   ],
   "source": [
    "# 매 폴더를 돌며\n",
    "for folder in folder_list:\n",
    "\n",
    "    # 상위경로와 하위 경로를 병합할 변수\n",
    "    sub_path = ''\n",
    "\n",
    "    # 폴더명으로 새 경로를 생성\n",
    "    sub_path = os.path.join(data_path,folder)\n",
    "    \n",
    "    sub_folder_list = os.listdir(sub_path)\n",
    "    print(sub_folder_list)\n",
    "    for sub_folder in sub_folder_list:\n",
    "        \n",
    "        sub_sub_path = os.path.join(data_path,folder,sub_folder)\n",
    "\n",
    "        # 시즌을 추출\n",
    "        season = season_re.findall(folder)\n",
    "\n",
    "        # 리그를 추출\n",
    "        league = league_re.findall(sub_folder)\n",
    "\n",
    "        # 2020-2021의 형태로 시즌을 만들기\n",
    "        season = season[0] + '-' + season[1]\n",
    "\n",
    "        # 한 시즌의 모든 팀들의 데이터를 병합하고 전처리\n",
    "        df_merged = data_merge(sub_sub_path, season)\n",
    "    \n",
    "        # 포지션 모델을 이용해서 선수들의 포지션을 판정\n",
    "        df_with_position = position_predictor(df_merged)\n",
    "        \n",
    "        # 포지션 판정된 데이터 전처리 및 변환\n",
    "        df_clean = data_cleaner(df_with_position)\n",
    "        \n",
    "        # 폴더명과 2020-2021-Ligue1.csv의 형식으로 파일을 저장\n",
    "        os.makedirs(target_path+'/'+season,exist_ok=True)\n",
    "        csv_path = target_path+'/'+season+'/'+ season +'-'+ league[0]+ '.csv'\n",
    "        csv_file = open(csv_path,'w',newline='',encoding='utf-8-sig')\n",
    "        csvwriter = csv.writer(csv_file)\n",
    "        csvwriter.writerow(['이름' , '시즌','포지션', '구단', '리그' , '골', '도움',\n",
    "                            '임대 기간', '승', '무', '패', '출장시간', '경기당 팀 득점/90',\n",
    "                            '경기당 팀 실점/90', 'Cr C/A','FA', '반칙 수/90', '기회 창출/90',\n",
    "                            '경기당 유효 슈팅/90', '경기당 슈팅/90', 'Int/90', '달린 거리/90분', \n",
    "                            '공중 A/90', '태클 성공률','경기당 패스 시도/90', '경기당 패스 성공/90', \n",
    "                            'K Ps/90','태클 성공/90', '드리블 성공/90', \n",
    "                            '헤더 성공/90', 'Cr A/90', '평균획득승점/경기'])\n",
    "        \n",
    "        for i in range(len(df_clean)):\n",
    "            csvwriter.writerow(df_clean.loc[i,['이름','시즌','포지션', '구단', '리그' , '골', '도움',\n",
    "                            '임대 기간', '승', '무', '패', '출장시간', '경기당 팀 득점/90',\n",
    "                            '경기당 팀 실점/90', 'Cr C/A', 'FA', '반칙 수/90', '기회 창출/90',\n",
    "                            '경기당 유효 슈팅/90', '경기당 슈팅/90', 'Int/90', '달린 거리/90분', \n",
    "                            '공중 A/90', '태클 성공률','경기당 패스 시도/90', '경기당 패스 성공/90', \n",
    "                            'K Ps/90','태클 성공/90', '드리블 성공/90', \n",
    "                            '헤더 성공/90', 'Cr A/90', '평균획득승점/경기']].tolist())\n",
    "        csv_file.close()"
   ]
  },
  {
   "cell_type": "markdown",
   "id": "3387e314",
   "metadata": {},
   "source": [
    "# 시즌별 데이터 병합"
   ]
  },
  {
   "cell_type": "code",
   "execution_count": 299,
   "id": "626d8a63",
   "metadata": {
    "ExecuteTime": {
     "end_time": "2021-11-23T14:07:27.154254Z",
     "start_time": "2021-11-23T14:07:25.559985Z"
    }
   },
   "outputs": [],
   "source": [
    "season_dir = os.listdir(target_path)\n",
    "\n",
    "for this_dir in season_dir:\n",
    "    \n",
    "    sub_path = os.path.join(target_path,this_dir)\n",
    "    sub_path_list = os.listdir(os.path.join(target_path,this_dir))\n",
    "    \n",
    "    df_for_ML = pd.DataFrame(columns = ['이름','포지션', '골', '도움', '경기당 팀 득점/90',\n",
    "                        '경기당 팀 실점/90', 'Cr C/A', 'FA', '반칙 수/90', '기회 창출/90',\n",
    "                        '경기당 유효 슈팅/90', '경기당 슈팅/90', 'Int/90', '달린 거리/90분',\n",
    "                        '공중 A/90', '태클 성공률','경기당 패스 시도/90', '경기당 패스 성공/90', \n",
    "                        'K Ps/90', '태클 성공/90', '드리블 성공/90', \n",
    "                        '헤더 성공/90', 'Cr A/90', '평균획득승점/경기'])\n",
    "    for file in sub_path_list:\n",
    "        data_path = os.path.join(sub_path,file)\n",
    "        this_df = pd.read_csv(data_path,encoding='utf-8-sig')\n",
    "        df_for_ML = pd.concat([df_for_ML,this_df])\n",
    "    \n",
    "    \n",
    "    df_for_ML = df_for_ML.reset_index(drop=True)\n",
    "    \n",
    "    season = season_re.findall(file)\n",
    "    season = season[0] + '-' + season[1]\n",
    "    \n",
    "    os.makedirs(ml_data_path+'/'+season,exist_ok=True)\n",
    "    csv_path = ml_data_path+'/'+season+'/'+ season +'ML'+ '.csv'\n",
    "    csv_file = open(csv_path,'w',newline='',encoding='utf-8-sig')\n",
    "    csvwriter = csv.writer(csv_file)\n",
    "    csvwriter.writerow(['이름' , '시즌','포지션', '구단', '리그' , '골', '도움',\n",
    "                            '임대 기간', '승', '무', '패', '출장시간', '경기당 팀 득점/90',\n",
    "                            '경기당 팀 실점/90', 'Cr C/A','FA', '반칙 수/90', '기회 창출/90',\n",
    "                            '경기당 유효 슈팅/90', '경기당 슈팅/90', 'Int/90', '달린 거리/90분', \n",
    "                            '공중 A/90', '태클 성공률','경기당 패스 시도/90', '경기당 패스 성공/90', \n",
    "                            'K Ps/90','태클 성공/90', '드리블 성공/90', \n",
    "                            '헤더 성공/90', 'Cr A/90', '평균획득승점/경기'])\n",
    "        \n",
    "    for i in range(len(df_for_ML)):\n",
    "        csvwriter.writerow(df_for_ML.loc[i,['이름','시즌','포지션', '구단', '리그' , '골', '도움',\n",
    "                            '임대 기간', '승', '무', '패', '출장시간', '경기당 팀 득점/90',\n",
    "                            '경기당 팀 실점/90', 'Cr C/A', 'FA', '반칙 수/90', '기회 창출/90',\n",
    "                            '경기당 유효 슈팅/90', '경기당 슈팅/90', 'Int/90', '달린 거리/90분', \n",
    "                            '공중 A/90', '태클 성공률','경기당 패스 시도/90', '경기당 패스 성공/90', \n",
    "                            'K Ps/90','태클 성공/90', '드리블 성공/90', \n",
    "                            '헤더 성공/90', 'Cr A/90', '평균획득승점/경기']].values)\n",
    "    \n",
    "    \n",
    "        "
   ]
  }
 ],
 "metadata": {
  "kernelspec": {
   "display_name": "Python 3 (ipykernel)",
   "language": "python",
   "name": "python3"
  },
  "language_info": {
   "codemirror_mode": {
    "name": "ipython",
    "version": 3
   },
   "file_extension": ".py",
   "mimetype": "text/x-python",
   "name": "python",
   "nbconvert_exporter": "python",
   "pygments_lexer": "ipython3",
   "version": "3.9.7"
  },
  "toc": {
   "base_numbering": 1,
   "nav_menu": {},
   "number_sections": true,
   "sideBar": true,
   "skip_h1_title": false,
   "title_cell": "Table of Contents",
   "title_sidebar": "Contents",
   "toc_cell": false,
   "toc_position": {},
   "toc_section_display": true,
   "toc_window_display": false
  },
  "varInspector": {
   "cols": {
    "lenName": 16,
    "lenType": 16,
    "lenVar": 40
   },
   "kernels_config": {
    "python": {
     "delete_cmd_postfix": "",
     "delete_cmd_prefix": "del ",
     "library": "var_list.py",
     "varRefreshCmd": "print(var_dic_list())"
    },
    "r": {
     "delete_cmd_postfix": ") ",
     "delete_cmd_prefix": "rm(",
     "library": "var_list.r",
     "varRefreshCmd": "cat(var_dic_list()) "
    }
   },
   "types_to_exclude": [
    "module",
    "function",
    "builtin_function_or_method",
    "instance",
    "_Feature"
   ],
   "window_display": false
  }
 },
 "nbformat": 4,
 "nbformat_minor": 5
}
